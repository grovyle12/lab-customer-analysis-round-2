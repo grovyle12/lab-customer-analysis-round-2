{
 "cells": [
  {
   "cell_type": "code",
   "execution_count": 1,
   "id": "3defdef5-0f4f-41ce-bbc9-b44188a2a90a",
   "metadata": {},
   "outputs": [],
   "source": [
    "import pandas as pd\n",
    "import numpy as np\n",
    "import datetime\n",
    "import time\n",
    "import calendar"
   ]
  },
  {
   "cell_type": "code",
   "execution_count": 2,
   "id": "a38da5d5-8c1b-4d87-90e0-de7fa26ca34e",
   "metadata": {},
   "outputs": [],
   "source": [
    "mca = pd.read_csv('C:/Users/mauri/Documents/Important IH Files/lab-customer-analysis-round-2/files_for_lab/csv_files/marketing_customer_analysis.csv')"
   ]
  },
  {
   "cell_type": "markdown",
   "id": "0b94e043-7b6d-47cb-a89e-fd9359e9d442",
   "metadata": {},
   "source": [
    "# 1. Show the dataframe shape.\n",
    "\n"
   ]
  },
  {
   "cell_type": "code",
   "execution_count": null,
   "id": "28f2f8ea-07df-40cd-a082-e04f55889456",
   "metadata": {},
   "outputs": [],
   "source": [
    "mca.shape[0]"
   ]
  },
  {
   "cell_type": "markdown",
   "id": "69acc940-02da-42d8-bfdd-a2ebca876933",
   "metadata": {},
   "source": [
    "# 2. Standardize header names.\n"
   ]
  },
  {
   "cell_type": "code",
   "execution_count": null,
   "id": "3e1ad426-1af4-4d4a-9740-54e072a22d8b",
   "metadata": {},
   "outputs": [],
   "source": [
    "#Head names appear to be fine, will apply strip function just in case\n",
    "mca.columns = list(map(lambda x: x.strip(), mca.columns))"
   ]
  },
  {
   "cell_type": "code",
   "execution_count": null,
   "id": "2aa3ee3c-e297-471f-842a-05e7b8ccda7e",
   "metadata": {},
   "outputs": [],
   "source": [
    "mca.columns"
   ]
  },
  {
   "cell_type": "code",
   "execution_count": null,
   "id": "715c0c24-df8d-4ebb-81da-be8a21b1e81d",
   "metadata": {},
   "outputs": [],
   "source": [
    "mca.head()"
   ]
  },
  {
   "cell_type": "markdown",
   "id": "7b8f0a19-28d3-4989-9f3a-26858623ca7a",
   "metadata": {},
   "source": [
    "# 3. Which columns are numerical?"
   ]
  },
  {
   "cell_type": "code",
   "execution_count": null,
   "id": "35493bf5-4402-402a-94ce-96fcf8051f50",
   "metadata": {},
   "outputs": [],
   "source": [
    "print(list(mca.select_dtypes('number').head(0)))"
   ]
  },
  {
   "cell_type": "markdown",
   "id": "e38ba676-8014-4764-9f7c-f747c73a2bdf",
   "metadata": {},
   "source": [
    "# 4. Which columns are categorical?\n"
   ]
  },
  {
   "cell_type": "code",
   "execution_count": null,
   "id": "0a8acf35-2a0b-452e-8c89-df0a8966cba1",
   "metadata": {},
   "outputs": [],
   "source": [
    "print(list(mca.select_dtypes('object').head(0)))"
   ]
  },
  {
   "cell_type": "code",
   "execution_count": null,
   "id": "a5613cef-3b1e-4af2-b060-7b75bd88d909",
   "metadata": {},
   "outputs": [],
   "source": [
    "mca['EmploymentStatus']"
   ]
  },
  {
   "cell_type": "markdown",
   "id": "f8ab42ae-d592-43dc-b68b-60edb8ad4243",
   "metadata": {},
   "source": [
    "# 5. Check and deal with NaN values.\n"
   ]
  },
  {
   "cell_type": "code",
   "execution_count": null,
   "id": "8176643f-a3a7-44b6-9927-f9788106db01",
   "metadata": {},
   "outputs": [],
   "source": [
    "# We do have some choice as to how to deal with \n",
    "null_list = mca.isna().sum()\n",
    "null_list.to_frame()"
   ]
  },
  {
   "cell_type": "code",
   "execution_count": null,
   "id": "9ea2edcb-5026-4f07-a587-83c8c2f4704c",
   "metadata": {},
   "outputs": [],
   "source": [
    "null_trans = null_list.to_frame().T"
   ]
  },
  {
   "cell_type": "code",
   "execution_count": null,
   "id": "248172dd-14ad-4d37-9055-4878b31ecfad",
   "metadata": {
    "tags": []
   },
   "outputs": [],
   "source": [
    "# Going to drop vehicle type, the only two data points DONE\n",
    "\n",
    "# State                             631 Done \n",
    "# Response                          631 Done\n",
    "# Months Since Last Claim           633 Done\n",
    "# Number of Open Complaints         633 Done\n",
    "# Vehicle Class                     622 Done\n",
    "# Vehicle Size                      622 Done\n",
    "# Vehicle Type                     5482\n",
    "null_list"
   ]
  },
  {
   "cell_type": "code",
   "execution_count": null,
   "id": "f6b776c0-e779-47bf-893a-25d048e43a72",
   "metadata": {},
   "outputs": [],
   "source": [
    "mca['Months Since Last Claim'].value_counts(dropna=False)"
   ]
  },
  {
   "cell_type": "code",
   "execution_count": null,
   "id": "5f9acf61-1909-4bfe-a619-e5c27bca5526",
   "metadata": {},
   "outputs": [],
   "source": [
    "mca['Months Since Last Claim'].unique()"
   ]
  },
  {
   "cell_type": "code",
   "execution_count": null,
   "id": "4a4b154a-d08f-44d4-ab09-08914673e9ec",
   "metadata": {},
   "outputs": [],
   "source": [
    "mca.drop(['Vehicle Type'], inplace = True, axis = 1)"
   ]
  },
  {
   "cell_type": "code",
   "execution_count": null,
   "id": "2bed1d4a-c92a-450f-8c78-ae8421df63a5",
   "metadata": {},
   "outputs": [],
   "source": [
    "# State                             631 \n",
    "larg_state = mca['State'].value_counts().index[0]\n",
    "larg_state"
   ]
  },
  {
   "cell_type": "code",
   "execution_count": null,
   "id": "345d6c13-44c0-4edf-9993-8023ec2391fc",
   "metadata": {},
   "outputs": [],
   "source": [
    "mca['State'] = mca['State'].fillna(larg_state)"
   ]
  },
  {
   "cell_type": "code",
   "execution_count": null,
   "id": "dfbb35f5-a975-42b7-ba5b-d51323cdd477",
   "metadata": {},
   "outputs": [],
   "source": [
    "# Response                          631\n",
    "mca['Response'].value_counts(dropna= False)/mca.shape[0]*100"
   ]
  },
  {
   "cell_type": "code",
   "execution_count": null,
   "id": "7324ebf0-c520-4d1b-9272-4dbb47c501c4",
   "metadata": {},
   "outputs": [],
   "source": [
    "larg_response = mca['Response'].value_counts().index[0]\n",
    "mca['Response'] = mca['Response'].fillna(larg_response)\n",
    "mca['Response'].value_counts(dropna= False)"
   ]
  },
  {
   "cell_type": "code",
   "execution_count": null,
   "id": "2b689bbc-0b80-433d-8545-8f8485f6c0e9",
   "metadata": {},
   "outputs": [],
   "source": [
    "mca['Months Since Last Claim'].value_counts(dropna=False)/mca.shape[0]*100"
   ]
  },
  {
   "cell_type": "code",
   "execution_count": null,
   "id": "08467595-f8ae-4943-bf8e-e62b6ac37d18",
   "metadata": {},
   "outputs": [],
   "source": [
    "larg_mslc = mca['Months Since Last Claim'].value_counts().index[0]\n",
    "mca['Months Since Last Claim'] = mca['Months Since Last Claim'].fillna(larg_mslc)"
   ]
  },
  {
   "cell_type": "code",
   "execution_count": null,
   "id": "9776308a-41dd-4f43-bb78-cf815e88c0f3",
   "metadata": {},
   "outputs": [],
   "source": [
    "# Number of Open Complaints\n",
    "mca['Number of Open Complaints'].value_counts(dropna=False)/mca.shape[0]*100"
   ]
  },
  {
   "cell_type": "code",
   "execution_count": null,
   "id": "0fd8c469-ad5b-424f-8f95-559817a1c1f1",
   "metadata": {},
   "outputs": [],
   "source": [
    "larg_nooc = mca['Number of Open Complaints'].value_counts().index[0]\n",
    "mca['Number of Open Complaints'] = mca['Number of Open Complaints'].fillna(larg_nooc)"
   ]
  },
  {
   "cell_type": "code",
   "execution_count": null,
   "id": "b4b41c55-f667-4ca1-ae4e-22b9ebfd4c1b",
   "metadata": {},
   "outputs": [],
   "source": [
    "# Vehicle Class\n",
    "mca['Vehicle Class'].value_counts(dropna=False)/mca.shape[0]*100"
   ]
  },
  {
   "cell_type": "code",
   "execution_count": null,
   "id": "deda6ef0-5bd6-4512-8c37-9ec79448454a",
   "metadata": {},
   "outputs": [],
   "source": [
    "larg_vc = mca['Vehicle Class'].value_counts().index[0]\n",
    "mca['Vehicle Class'] = mca['Vehicle Class'].fillna(larg_vc)"
   ]
  },
  {
   "cell_type": "code",
   "execution_count": null,
   "id": "5e8d16ba-985b-4cfd-9cd6-86fd65a76865",
   "metadata": {},
   "outputs": [],
   "source": [
    "# Vehicle Size\n",
    "mca['Vehicle Size'].value_counts(dropna=False)/mca.shape[0]*100"
   ]
  },
  {
   "cell_type": "code",
   "execution_count": null,
   "id": "795d1506-6b91-4c8c-b38a-a58c92d4a595",
   "metadata": {},
   "outputs": [],
   "source": [
    "larg_vs = mca['Vehicle Size'].value_counts().index[0]\n",
    "mca['Vehicle Size'] = mca['Vehicle Size'].fillna(larg_vs)"
   ]
  },
  {
   "cell_type": "code",
   "execution_count": null,
   "id": "12c586a0-2327-42bc-b655-9765055e98ca",
   "metadata": {},
   "outputs": [],
   "source": [
    "mca['Effective To Date'].value_counts()"
   ]
  },
  {
   "cell_type": "markdown",
   "id": "d25a68fc-f2f7-41c0-bbf1-56a446241058",
   "metadata": {},
   "source": [
    "# 6. Datetime format - Extract the months from the dataset and store in a separate column. Then filter the data to show only the information for the first quarter , ie. January, February and March. Hint: If data from March does not exist, consider only January and February. "
   ]
  },
  {
   "cell_type": "code",
   "execution_count": null,
   "id": "7ee35e29-5156-4008-8e63-d169c1501d89",
   "metadata": {
    "scrolled": true,
    "tags": []
   },
   "outputs": [],
   "source": [
    "mca['Effective To Date'] = pd.to_datetime(mca['Effective To Date'])\n",
    "mca.dtypes"
   ]
  },
  {
   "cell_type": "code",
   "execution_count": null,
   "id": "c01b6100-046e-4120-8f5f-d3d744243867",
   "metadata": {},
   "outputs": [],
   "source": [
    "# Look how much you have grown \n",
    "Month_Claim = []\n",
    "for item in mca['Effective To Date']:\n",
    "    #print(calendar.month_abbr[item.month])\n",
    "    Month_Claim.append(calendar.month_abbr[item.month])"
   ]
  },
  {
   "cell_type": "code",
   "execution_count": null,
   "id": "3cf64043-d3ed-4fbf-9dcf-b1a2eaba98f1",
   "metadata": {},
   "outputs": [],
   "source": [
    "mca['Month_Claim'] = Month_Claim\n",
    "mca.head()"
   ]
  },
  {
   "cell_type": "code",
   "execution_count": null,
   "id": "0de3d0dd-5047-4a40-ac53-a72ca3153bdf",
   "metadata": {},
   "outputs": [],
   "source": [
    "# didn't understand the question, decided to make a filter which gave me the data for only the month of January, stored it as a new dataframe\n",
    "mca_jan = mca[(mca['Effective To Date'] > '2011-01-01') & (mca['Effective To Date'] < '2011-02-01')]\n",
    "mca_jan.reset_index(inplace = True)\n",
    "mca_jan"
   ]
  },
  {
   "cell_type": "code",
   "execution_count": null,
   "id": "034b764e-5f39-4ddd-8845-dbe7390ccbcc",
   "metadata": {},
   "outputs": [],
   "source": [
    "mca = mca[(mca['Effective To Date'] > '2011-01-01') & (mca['Effective To Date'] < '2011-02-01')]\n",
    "mca.reset_index(inplace = True)\n",
    "mca"
   ]
  },
  {
   "cell_type": "code",
   "execution_count": null,
   "id": "2da5880d-46da-4bc7-8397-5d38aded6a6c",
   "metadata": {},
   "outputs": [],
   "source": [
    "print(mca['Effective To Date'].shape[0])"
   ]
  },
  {
   "cell_type": "markdown",
   "id": "3c9e41ae-e71a-4117-8a9e-54856ac9f842",
   "metadata": {},
   "source": []
  },
  {
   "cell_type": "markdown",
   "id": "33518b65-d651-48cc-a99b-70a76d6b6b81",
   "metadata": {},
   "source": [
    "# BONUS: Put all the previously mentioned data transformations into a function."
   ]
  },
  {
   "cell_type": "code",
   "execution_count": 3,
   "id": "52fafe22-9b2f-4da3-b8a4-58c34c00a992",
   "metadata": {},
   "outputs": [],
   "source": [
    "def clean(df):\n",
    "    shape = print('The Shape Of This Dataframe Is',df.shape[0]) # Show the dataframe shape. \n",
    "    df.columns = list(map(lambda x: x.strip(), df.columns)) # Standardize header names\n",
    "    num_col = print('The following columns are numerical',(list(df.select_dtypes('number').head(0)))) # Which columns are numerical?\n",
    "    cat_col = print('The following columns are categorical',list(mca.select_dtypes('object').head(0))) # Which columns are categorical?\n",
    "    # Cleaning up Null Values and replacing them \n",
    "    df.drop(['Vehicle Type'], inplace = True, axis = 1) #Drop Vehicle Type\n",
    "    larg_state = df['State'].value_counts().index[0] #State replace Null\n",
    "    df['State'] = df['State'].fillna(larg_state)\n",
    "    larg_response = df['Response'].value_counts().index[0] #Response replace null\n",
    "    df['Response'] = df['Response'].fillna(larg_response)\n",
    "    larg_mslc = df['Months Since Last Claim'].value_counts().index[0] #MSLC replace null\n",
    "    df['Months Since Last Claim'] = df['Months Since Last Claim'].fillna(larg_mslc)\n",
    "    larg_nooc = df['Number of Open Complaints'].value_counts().index[0] #Number of open complaints replace null\n",
    "    df['Number of Open Complaints'] = df['Number of Open Complaints'].fillna(larg_nooc)\n",
    "    larg_vc = df['Vehicle Class'].value_counts().index[0] #Vehicle Class replace Null\n",
    "    df['Vehicle Class'] = df['Vehicle Class'].fillna(larg_vc)\n",
    "    larg_vs = df['Vehicle Size'].value_counts().index[0] # Vehicle Size replace Null\n",
    "    df['Vehicle Size'] = df['Vehicle Size'].fillna(larg_vs)\n",
    "    # Change to datatime\n",
    "    df['Effective To Date'] = pd.to_datetime(df['Effective To Date'])\n",
    "    Month_Claim = []\n",
    "    for item in df['Effective To Date']:\n",
    "    #print(calendar.month_abbr[item.month])\n",
    "        Month_Claim.append(calendar.month_abbr[item.month])\n",
    "    df = df[(df['Effective To Date'] > '2011-01-01') & (df['Effective To Date'] < '2011-02-01')]\n",
    "    df.reset_index(inplace = True)\n",
    "    df\n",
    "    return df    "
   ]
  },
  {
   "cell_type": "code",
   "execution_count": 4,
   "id": "f8cafdd9-e784-483c-9381-d61d8251011f",
   "metadata": {},
   "outputs": [
    {
     "name": "stdout",
     "output_type": "stream",
     "text": [
      "The Shape Of This Dataframe Is 10910\n",
      "The following columns are numerical ['Unnamed: 0', 'Customer Lifetime Value', 'Income', 'Monthly Premium Auto', 'Months Since Last Claim', 'Months Since Policy Inception', 'Number of Open Complaints', 'Number of Policies', 'Total Claim Amount']\n",
      "The following columns are categorical ['Customer', 'State', 'Response', 'Coverage', 'Education', 'Effective To Date', 'EmploymentStatus', 'Gender', 'Location Code', 'Marital Status', 'Policy Type', 'Policy', 'Renew Offer Type', 'Sales Channel', 'Vehicle Class', 'Vehicle Size', 'Vehicle Type']\n"
     ]
    }
   ],
   "source": [
    "mca = clean(mca)"
   ]
  },
  {
   "cell_type": "code",
   "execution_count": 5,
   "id": "90ac5fae-d5fb-416e-9b38-9e5465ad1584",
   "metadata": {},
   "outputs": [
    {
     "data": {
      "text/html": [
       "<div>\n",
       "<style scoped>\n",
       "    .dataframe tbody tr th:only-of-type {\n",
       "        vertical-align: middle;\n",
       "    }\n",
       "\n",
       "    .dataframe tbody tr th {\n",
       "        vertical-align: top;\n",
       "    }\n",
       "\n",
       "    .dataframe thead th {\n",
       "        text-align: right;\n",
       "    }\n",
       "</style>\n",
       "<table border=\"1\" class=\"dataframe\">\n",
       "  <thead>\n",
       "    <tr style=\"text-align: right;\">\n",
       "      <th></th>\n",
       "      <th>index</th>\n",
       "      <th>Unnamed: 0</th>\n",
       "      <th>Customer</th>\n",
       "      <th>State</th>\n",
       "      <th>Customer Lifetime Value</th>\n",
       "      <th>Response</th>\n",
       "      <th>Coverage</th>\n",
       "      <th>Education</th>\n",
       "      <th>Effective To Date</th>\n",
       "      <th>EmploymentStatus</th>\n",
       "      <th>...</th>\n",
       "      <th>Months Since Policy Inception</th>\n",
       "      <th>Number of Open Complaints</th>\n",
       "      <th>Number of Policies</th>\n",
       "      <th>Policy Type</th>\n",
       "      <th>Policy</th>\n",
       "      <th>Renew Offer Type</th>\n",
       "      <th>Sales Channel</th>\n",
       "      <th>Total Claim Amount</th>\n",
       "      <th>Vehicle Class</th>\n",
       "      <th>Vehicle Size</th>\n",
       "    </tr>\n",
       "  </thead>\n",
       "  <tbody>\n",
       "    <tr>\n",
       "      <th>0</th>\n",
       "      <td>1</td>\n",
       "      <td>1</td>\n",
       "      <td>KX64629</td>\n",
       "      <td>California</td>\n",
       "      <td>2228.525238</td>\n",
       "      <td>No</td>\n",
       "      <td>Basic</td>\n",
       "      <td>College</td>\n",
       "      <td>2011-01-18</td>\n",
       "      <td>Unemployed</td>\n",
       "      <td>...</td>\n",
       "      <td>26</td>\n",
       "      <td>0.0</td>\n",
       "      <td>1</td>\n",
       "      <td>Personal Auto</td>\n",
       "      <td>Personal L3</td>\n",
       "      <td>Offer4</td>\n",
       "      <td>Call Center</td>\n",
       "      <td>744.924331</td>\n",
       "      <td>Four-Door Car</td>\n",
       "      <td>Medsize</td>\n",
       "    </tr>\n",
       "    <tr>\n",
       "      <th>1</th>\n",
       "      <td>3</td>\n",
       "      <td>3</td>\n",
       "      <td>XL78013</td>\n",
       "      <td>Oregon</td>\n",
       "      <td>22332.439460</td>\n",
       "      <td>Yes</td>\n",
       "      <td>Extended</td>\n",
       "      <td>College</td>\n",
       "      <td>2011-01-11</td>\n",
       "      <td>Employed</td>\n",
       "      <td>...</td>\n",
       "      <td>3</td>\n",
       "      <td>0.0</td>\n",
       "      <td>2</td>\n",
       "      <td>Corporate Auto</td>\n",
       "      <td>Corporate L3</td>\n",
       "      <td>Offer2</td>\n",
       "      <td>Branch</td>\n",
       "      <td>484.013411</td>\n",
       "      <td>Four-Door Car</td>\n",
       "      <td>Medsize</td>\n",
       "    </tr>\n",
       "    <tr>\n",
       "      <th>2</th>\n",
       "      <td>4</td>\n",
       "      <td>4</td>\n",
       "      <td>QA50777</td>\n",
       "      <td>Oregon</td>\n",
       "      <td>9025.067525</td>\n",
       "      <td>No</td>\n",
       "      <td>Premium</td>\n",
       "      <td>Bachelor</td>\n",
       "      <td>2011-01-17</td>\n",
       "      <td>Medical Leave</td>\n",
       "      <td>...</td>\n",
       "      <td>31</td>\n",
       "      <td>0.0</td>\n",
       "      <td>7</td>\n",
       "      <td>Personal Auto</td>\n",
       "      <td>Personal L2</td>\n",
       "      <td>Offer1</td>\n",
       "      <td>Branch</td>\n",
       "      <td>707.925645</td>\n",
       "      <td>Four-Door Car</td>\n",
       "      <td>Medsize</td>\n",
       "    </tr>\n",
       "    <tr>\n",
       "      <th>3</th>\n",
       "      <td>8</td>\n",
       "      <td>8</td>\n",
       "      <td>FM55990</td>\n",
       "      <td>California</td>\n",
       "      <td>5989.773931</td>\n",
       "      <td>Yes</td>\n",
       "      <td>Premium</td>\n",
       "      <td>College</td>\n",
       "      <td>2011-01-19</td>\n",
       "      <td>Employed</td>\n",
       "      <td>...</td>\n",
       "      <td>24</td>\n",
       "      <td>0.0</td>\n",
       "      <td>1</td>\n",
       "      <td>Personal Auto</td>\n",
       "      <td>Personal L1</td>\n",
       "      <td>Offer2</td>\n",
       "      <td>Branch</td>\n",
       "      <td>739.200000</td>\n",
       "      <td>Sports Car</td>\n",
       "      <td>Medsize</td>\n",
       "    </tr>\n",
       "    <tr>\n",
       "      <th>4</th>\n",
       "      <td>9</td>\n",
       "      <td>9</td>\n",
       "      <td>QX31376</td>\n",
       "      <td>Oregon</td>\n",
       "      <td>17114.328150</td>\n",
       "      <td>No</td>\n",
       "      <td>Extended</td>\n",
       "      <td>Master</td>\n",
       "      <td>2011-01-04</td>\n",
       "      <td>Employed</td>\n",
       "      <td>...</td>\n",
       "      <td>8</td>\n",
       "      <td>0.0</td>\n",
       "      <td>2</td>\n",
       "      <td>Corporate Auto</td>\n",
       "      <td>Corporate L3</td>\n",
       "      <td>Offer2</td>\n",
       "      <td>Agent</td>\n",
       "      <td>408.000000</td>\n",
       "      <td>Four-Door Car</td>\n",
       "      <td>Small</td>\n",
       "    </tr>\n",
       "    <tr>\n",
       "      <th>...</th>\n",
       "      <td>...</td>\n",
       "      <td>...</td>\n",
       "      <td>...</td>\n",
       "      <td>...</td>\n",
       "      <td>...</td>\n",
       "      <td>...</td>\n",
       "      <td>...</td>\n",
       "      <td>...</td>\n",
       "      <td>...</td>\n",
       "      <td>...</td>\n",
       "      <td>...</td>\n",
       "      <td>...</td>\n",
       "      <td>...</td>\n",
       "      <td>...</td>\n",
       "      <td>...</td>\n",
       "      <td>...</td>\n",
       "      <td>...</td>\n",
       "      <td>...</td>\n",
       "      <td>...</td>\n",
       "      <td>...</td>\n",
       "      <td>...</td>\n",
       "    </tr>\n",
       "    <tr>\n",
       "      <th>5642</th>\n",
       "      <td>10902</td>\n",
       "      <td>10902</td>\n",
       "      <td>PP30874</td>\n",
       "      <td>California</td>\n",
       "      <td>3579.023825</td>\n",
       "      <td>No</td>\n",
       "      <td>Extended</td>\n",
       "      <td>High School or Below</td>\n",
       "      <td>2011-01-24</td>\n",
       "      <td>Employed</td>\n",
       "      <td>...</td>\n",
       "      <td>30</td>\n",
       "      <td>2.0</td>\n",
       "      <td>1</td>\n",
       "      <td>Personal Auto</td>\n",
       "      <td>Personal L2</td>\n",
       "      <td>Offer2</td>\n",
       "      <td>Agent</td>\n",
       "      <td>655.200000</td>\n",
       "      <td>Four-Door Car</td>\n",
       "      <td>Medsize</td>\n",
       "    </tr>\n",
       "    <tr>\n",
       "      <th>5643</th>\n",
       "      <td>10903</td>\n",
       "      <td>10903</td>\n",
       "      <td>SU71163</td>\n",
       "      <td>Arizona</td>\n",
       "      <td>2771.663013</td>\n",
       "      <td>No</td>\n",
       "      <td>Basic</td>\n",
       "      <td>College</td>\n",
       "      <td>2011-01-07</td>\n",
       "      <td>Employed</td>\n",
       "      <td>...</td>\n",
       "      <td>82</td>\n",
       "      <td>4.0</td>\n",
       "      <td>1</td>\n",
       "      <td>Personal Auto</td>\n",
       "      <td>Personal L2</td>\n",
       "      <td>Offer2</td>\n",
       "      <td>Branch</td>\n",
       "      <td>355.200000</td>\n",
       "      <td>Two-Door Car</td>\n",
       "      <td>Medsize</td>\n",
       "    </tr>\n",
       "    <tr>\n",
       "      <th>5644</th>\n",
       "      <td>10905</td>\n",
       "      <td>10905</td>\n",
       "      <td>FE99816</td>\n",
       "      <td>Nevada</td>\n",
       "      <td>15563.369440</td>\n",
       "      <td>No</td>\n",
       "      <td>Premium</td>\n",
       "      <td>Bachelor</td>\n",
       "      <td>2011-01-19</td>\n",
       "      <td>Unemployed</td>\n",
       "      <td>...</td>\n",
       "      <td>40</td>\n",
       "      <td>0.0</td>\n",
       "      <td>7</td>\n",
       "      <td>Personal Auto</td>\n",
       "      <td>Personal L1</td>\n",
       "      <td>Offer3</td>\n",
       "      <td>Web</td>\n",
       "      <td>1214.400000</td>\n",
       "      <td>Luxury Car</td>\n",
       "      <td>Medsize</td>\n",
       "    </tr>\n",
       "    <tr>\n",
       "      <th>5645</th>\n",
       "      <td>10906</td>\n",
       "      <td>10906</td>\n",
       "      <td>KX53892</td>\n",
       "      <td>Oregon</td>\n",
       "      <td>5259.444853</td>\n",
       "      <td>No</td>\n",
       "      <td>Basic</td>\n",
       "      <td>College</td>\n",
       "      <td>2011-01-06</td>\n",
       "      <td>Employed</td>\n",
       "      <td>...</td>\n",
       "      <td>68</td>\n",
       "      <td>0.0</td>\n",
       "      <td>6</td>\n",
       "      <td>Personal Auto</td>\n",
       "      <td>Personal L3</td>\n",
       "      <td>Offer2</td>\n",
       "      <td>Branch</td>\n",
       "      <td>273.018929</td>\n",
       "      <td>Four-Door Car</td>\n",
       "      <td>Medsize</td>\n",
       "    </tr>\n",
       "    <tr>\n",
       "      <th>5646</th>\n",
       "      <td>10909</td>\n",
       "      <td>10909</td>\n",
       "      <td>IV32877</td>\n",
       "      <td>California</td>\n",
       "      <td>6857.519928</td>\n",
       "      <td>No</td>\n",
       "      <td>Basic</td>\n",
       "      <td>Bachelor</td>\n",
       "      <td>2011-01-08</td>\n",
       "      <td>Unemployed</td>\n",
       "      <td>...</td>\n",
       "      <td>1</td>\n",
       "      <td>0.0</td>\n",
       "      <td>3</td>\n",
       "      <td>Personal Auto</td>\n",
       "      <td>Personal L1</td>\n",
       "      <td>Offer4</td>\n",
       "      <td>Web</td>\n",
       "      <td>1021.719397</td>\n",
       "      <td>SUV</td>\n",
       "      <td>Medsize</td>\n",
       "    </tr>\n",
       "  </tbody>\n",
       "</table>\n",
       "<p>5647 rows × 26 columns</p>\n",
       "</div>"
      ],
      "text/plain": [
       "      index  Unnamed: 0 Customer       State  Customer Lifetime Value  \\\n",
       "0         1           1  KX64629  California              2228.525238   \n",
       "1         3           3  XL78013      Oregon             22332.439460   \n",
       "2         4           4  QA50777      Oregon              9025.067525   \n",
       "3         8           8  FM55990  California              5989.773931   \n",
       "4         9           9  QX31376      Oregon             17114.328150   \n",
       "...     ...         ...      ...         ...                      ...   \n",
       "5642  10902       10902  PP30874  California              3579.023825   \n",
       "5643  10903       10903  SU71163     Arizona              2771.663013   \n",
       "5644  10905       10905  FE99816      Nevada             15563.369440   \n",
       "5645  10906       10906  KX53892      Oregon              5259.444853   \n",
       "5646  10909       10909  IV32877  California              6857.519928   \n",
       "\n",
       "     Response  Coverage             Education Effective To Date  \\\n",
       "0          No     Basic               College        2011-01-18   \n",
       "1         Yes  Extended               College        2011-01-11   \n",
       "2          No   Premium              Bachelor        2011-01-17   \n",
       "3         Yes   Premium               College        2011-01-19   \n",
       "4          No  Extended                Master        2011-01-04   \n",
       "...       ...       ...                   ...               ...   \n",
       "5642       No  Extended  High School or Below        2011-01-24   \n",
       "5643       No     Basic               College        2011-01-07   \n",
       "5644       No   Premium              Bachelor        2011-01-19   \n",
       "5645       No     Basic               College        2011-01-06   \n",
       "5646       No     Basic              Bachelor        2011-01-08   \n",
       "\n",
       "     EmploymentStatus  ... Months Since Policy Inception  \\\n",
       "0          Unemployed  ...                            26   \n",
       "1            Employed  ...                             3   \n",
       "2       Medical Leave  ...                            31   \n",
       "3            Employed  ...                            24   \n",
       "4            Employed  ...                             8   \n",
       "...               ...  ...                           ...   \n",
       "5642         Employed  ...                            30   \n",
       "5643         Employed  ...                            82   \n",
       "5644       Unemployed  ...                            40   \n",
       "5645         Employed  ...                            68   \n",
       "5646       Unemployed  ...                             1   \n",
       "\n",
       "      Number of Open Complaints Number of Policies     Policy Type  \\\n",
       "0                           0.0                  1   Personal Auto   \n",
       "1                           0.0                  2  Corporate Auto   \n",
       "2                           0.0                  7   Personal Auto   \n",
       "3                           0.0                  1   Personal Auto   \n",
       "4                           0.0                  2  Corporate Auto   \n",
       "...                         ...                ...             ...   \n",
       "5642                        2.0                  1   Personal Auto   \n",
       "5643                        4.0                  1   Personal Auto   \n",
       "5644                        0.0                  7   Personal Auto   \n",
       "5645                        0.0                  6   Personal Auto   \n",
       "5646                        0.0                  3   Personal Auto   \n",
       "\n",
       "            Policy  Renew Offer Type  Sales Channel  Total Claim Amount  \\\n",
       "0      Personal L3            Offer4    Call Center          744.924331   \n",
       "1     Corporate L3            Offer2         Branch          484.013411   \n",
       "2      Personal L2            Offer1         Branch          707.925645   \n",
       "3      Personal L1            Offer2         Branch          739.200000   \n",
       "4     Corporate L3            Offer2          Agent          408.000000   \n",
       "...            ...               ...            ...                 ...   \n",
       "5642   Personal L2            Offer2          Agent          655.200000   \n",
       "5643   Personal L2            Offer2         Branch          355.200000   \n",
       "5644   Personal L1            Offer3            Web         1214.400000   \n",
       "5645   Personal L3            Offer2         Branch          273.018929   \n",
       "5646   Personal L1            Offer4            Web         1021.719397   \n",
       "\n",
       "      Vehicle Class Vehicle Size  \n",
       "0     Four-Door Car      Medsize  \n",
       "1     Four-Door Car      Medsize  \n",
       "2     Four-Door Car      Medsize  \n",
       "3        Sports Car      Medsize  \n",
       "4     Four-Door Car        Small  \n",
       "...             ...          ...  \n",
       "5642  Four-Door Car      Medsize  \n",
       "5643   Two-Door Car      Medsize  \n",
       "5644     Luxury Car      Medsize  \n",
       "5645  Four-Door Car      Medsize  \n",
       "5646            SUV      Medsize  \n",
       "\n",
       "[5647 rows x 26 columns]"
      ]
     },
     "execution_count": 5,
     "metadata": {},
     "output_type": "execute_result"
    }
   ],
   "source": [
    "mca"
   ]
  },
  {
   "cell_type": "code",
   "execution_count": null,
   "id": "6f00ec67-63fd-4993-83bf-7ff89c29e055",
   "metadata": {},
   "outputs": [],
   "source": [
    "mca"
   ]
  },
  {
   "cell_type": "code",
   "execution_count": null,
   "id": "3c0adea5-4600-4f3b-84b6-0697722b7aa3",
   "metadata": {},
   "outputs": [],
   "source": []
  }
 ],
 "metadata": {
  "kernelspec": {
   "display_name": "Python 3 (ipykernel)",
   "language": "python",
   "name": "python3"
  },
  "language_info": {
   "codemirror_mode": {
    "name": "ipython",
    "version": 3
   },
   "file_extension": ".py",
   "mimetype": "text/x-python",
   "name": "python",
   "nbconvert_exporter": "python",
   "pygments_lexer": "ipython3",
   "version": "3.10.1"
  }
 },
 "nbformat": 4,
 "nbformat_minor": 5
}
